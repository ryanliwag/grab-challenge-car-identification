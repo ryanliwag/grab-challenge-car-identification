{
 "cells": [
  {
   "cell_type": "code",
   "execution_count": 12,
   "metadata": {},
   "outputs": [
    {
     "name": "stdout",
     "output_type": "stream",
     "text": [
      "Azure ML SDK Version:  1.0.41\n"
     ]
    }
   ],
   "source": [
    "from __future__ import print_function, division\n",
    "\n",
    "import azureml.core\n",
    "from azureml.core import Workspace\n",
    "\n",
    "import shutil\n",
    "#create script folder\n",
    "import os\n",
    "\n",
    "# check core SDK version number\n",
    "print(\"Azure ML SDK Version: \", azureml.core.VERSION)\n",
    "from azureml.train.dnn import PyTorch\n",
    "from azureml.core import Experiment"
   ]
  },
  {
   "cell_type": "code",
   "execution_count": 13,
   "metadata": {
    "scrolled": true
   },
   "outputs": [
    {
     "name": "stdout",
     "output_type": "stream",
     "text": [
      "AzureBlob grabchallenge7532307610 azureml-blobstore-bdb9c389-0b1d-4d61-8a9e-ed28b255aed9\n"
     ]
    }
   ],
   "source": [
    "# load workspace configuration from the config.json file in the current folder.\n",
    "ws = Workspace.from_config()\n",
    "\n",
    "ds = ws.get_default_datastore()\n",
    "print(ds.datastore_type, ds.account_name, ds.container_name)"
   ]
  },
  {
   "cell_type": "code",
   "execution_count": null,
   "metadata": {},
   "outputs": [],
   "source": [
    "'''\n",
    "ds = ws.get_default_datastore()\n",
    "print(ds.datastore_type, ds.account_name, ds.container_name)\n",
    "\n",
    "ds.upload(src_dir=\"data\", target_path='car_data', show_progress=True)\n",
    "'''"
   ]
  },
  {
   "cell_type": "code",
   "execution_count": 36,
   "metadata": {},
   "outputs": [
    {
     "data": {
      "text/plain": [
       "$AZUREML_DATAREFERENCE_workspaceblobstore"
      ]
     },
     "execution_count": 36,
     "metadata": {},
     "output_type": "execute_result"
    }
   ],
   "source": [
    "ds.as_download(\"gpu-grab-compute\").path()"
   ]
  },
  {
   "cell_type": "code",
   "execution_count": 37,
   "metadata": {},
   "outputs": [
    {
     "data": {
      "text/plain": [
       "'C:\\\\Users\\\\ryan_\\\\OneDrive\\\\Desktop\\\\Projects\\\\grab_challenge\\\\cars_training\\\\vgg16_tl.py'"
      ]
     },
     "execution_count": 37,
     "metadata": {},
     "output_type": "execute_result"
    }
   ],
   "source": [
    "#copy scripts to target directory\n",
    "script_folder = os.path.join(os.getcwd(), \"cars_training\")\n",
    "os.makedirs(script_folder, exist_ok=True)\n",
    "\n",
    "shutil.copy('utils.py', script_folder)\n",
    "shutil.copy('vgg16_tl.py', script_folder)"
   ]
  },
  {
   "cell_type": "code",
   "execution_count": 38,
   "metadata": {},
   "outputs": [
    {
     "name": "stderr",
     "output_type": "stream",
     "text": [
      "framework_version is not specified, defaulting to version 1.1.\n"
     ]
    }
   ],
   "source": [
    "#VGG 16 training experiments\n",
    "experiment_name = 'VGG16_base_model'\n",
    "\n",
    "exp = Experiment(workspace=ws, name=experiment_name)\n",
    "\n",
    "compute_target=ws.compute_targets[\"gpu-grab-compute\"]\n",
    "\n",
    "script_params = {\n",
    "    '--data-folder': ds.path('car_data').as_mount(),\n",
    "    '--training-folder': \"cars_train\",\n",
    "    '--meta-file':\"devkit/cars_meta.mat\",\n",
    "    '--annotation-file':\"devkit/cars_train_annos.mat\",\n",
    "    '--nb_epochs':25,\n",
    "    '--batch_size':35,\n",
    "    '--nb_classes':12,\n",
    "    '--test-split':0.2,\n",
    "    '--class-train':\"type_ID\",\n",
    "    '--learning-rate':0.001\n",
    "}\n",
    "\n",
    "vgg_simple = PyTorch(source_directory=script_folder,\n",
    "                 script_params=script_params,\n",
    "                 compute_target=compute_target,\n",
    "                 use_gpu=True,\n",
    "                 entry_script='vgg16_tl.py',\n",
    "                 conda_packages=['scipy', 'numpy', 'scikit-learn', 'pillow'],\n",
    "                 pip_packages = [\"regex\", 'pillow'],\n",
    "                 )\n",
    "\n",
    "gpu_run_1 = exp.submit(config=vgg_simple)\n",
    "gpu_run_1"
   ]
  },
  {
   "cell_type": "code",
   "execution_count": 40,
   "metadata": {
    "scrolled": false
   },
   "outputs": [
    {
     "data": {
      "application/vnd.jupyter.widget-view+json": {
       "model_id": "c592552cd2e0409da8371599fbd71133",
       "version_major": 2,
       "version_minor": 0
      },
      "text/plain": [
       "_UserRunWidget(widget_settings={'childWidgetDisplay': 'popup', 'send_telemetry': False, 'log_level': 'INFO', '…"
      ]
     },
     "metadata": {},
     "output_type": "display_data"
    }
   ],
   "source": [
    "from azureml.widgets import RunDetails\n",
    "RunDetails(gpu_run_1).show()"
   ]
  },
  {
   "cell_type": "code",
   "execution_count": 41,
   "metadata": {
    "scrolled": false
   },
   "outputs": [
    {
     "name": "stderr",
     "output_type": "stream",
     "text": [
      "framework_version is not specified, defaulting to version 1.1.\n"
     ]
    },
    {
     "data": {
      "text/html": [
       "<table style=\"width:100%\"><tr><th>Experiment</th><th>Id</th><th>Type</th><th>Status</th><th>Details Page</th><th>Docs Page</th></tr><tr><td>VGG16_base_model</td><td>VGG16_base_model_1560771414_2727b230</td><td>azureml.scriptrun</td><td>Queued</td><td><a href=\"https://mlworkspace.azure.ai/portal/subscriptions/316d7924-1850-42e1-a2ec-45cc9fa5d9e7/resourceGroups/grab/providers/Microsoft.MachineLearningServices/workspaces/grab_challenge/experiments/VGG16_base_model/runs/VGG16_base_model_1560771414_2727b230\" target=\"_blank\" rel=\"noopener\">Link to Azure Portal</a></td><td><a href=\"https://docs.microsoft.com/en-us/python/api/azureml-core/azureml.core.script_run.ScriptRun?view=azure-ml-py\" target=\"_blank\" rel=\"noopener\">Link to Documentation</a></td></tr></table>"
      ],
      "text/plain": [
       "Run(Experiment: VGG16_base_model,\n",
       "Id: VGG16_base_model_1560771414_2727b230,\n",
       "Type: azureml.scriptrun,\n",
       "Status: Queued)"
      ]
     },
     "execution_count": 41,
     "metadata": {},
     "output_type": "execute_result"
    }
   ],
   "source": [
    "#VGG 16 training experiments\n",
    "experiment_name = 'VGG16_base_model'\n",
    "\n",
    "exp = Experiment(workspace=ws, name=experiment_name)\n",
    "\n",
    "compute_target=ws.compute_targets[\"gpu-grab-compute\"]\n",
    "\n",
    "script_params = {\n",
    "    '--data-folder': ds.path('car_data').as_mount(),\n",
    "    '--training-folder': \"cars_train\",\n",
    "    '--meta-file':\"devkit/cars_meta.mat\",\n",
    "    '--annotation-file':\"devkit/cars_train_annos.mat\",\n",
    "    '--nb_epochs':25,\n",
    "    '--batch_size':35,\n",
    "    '--nb_classes':196,\n",
    "    '--test-split':0.2,\n",
    "    '--class-train':\"class_ID\",\n",
    "    '--learning-rate':0.001\n",
    "}\n",
    "\n",
    "vgg_simple = PyTorch(source_directory=script_folder,\n",
    "                 script_params=script_params,\n",
    "                 compute_target=compute_target,\n",
    "                 use_gpu=True,\n",
    "                 entry_script='vgg16_tl.py',\n",
    "                 conda_packages=['scipy', 'numpy', 'scikit-learn', 'pillow'],\n",
    "                 pip_packages = [\"regex\", 'pillow'],\n",
    "                 )\n",
    "\n",
    "gpu_run_1 = exp.submit(config=vgg_simple)\n",
    "gpu_run_1"
   ]
  },
  {
   "cell_type": "code",
   "execution_count": 42,
   "metadata": {
    "scrolled": true
   },
   "outputs": [
    {
     "data": {
      "application/vnd.jupyter.widget-view+json": {
       "model_id": "fb6a1191716e42128095dc0a3c98217b",
       "version_major": 2,
       "version_minor": 0
      },
      "text/plain": [
       "_UserRunWidget(widget_settings={'childWidgetDisplay': 'popup', 'send_telemetry': False, 'log_level': 'INFO', '…"
      ]
     },
     "metadata": {},
     "output_type": "display_data"
    }
   ],
   "source": [
    "RunDetails(gpu_run_1).show()"
   ]
  }
 ],
 "metadata": {
  "kernelspec": {
   "display_name": "Python 3",
   "language": "python",
   "name": "python3"
  },
  "language_info": {
   "codemirror_mode": {
    "name": "ipython",
    "version": 3
   },
   "file_extension": ".py",
   "mimetype": "text/x-python",
   "name": "python",
   "nbconvert_exporter": "python",
   "pygments_lexer": "ipython3",
   "version": "3.6.5"
  }
 },
 "nbformat": 4,
 "nbformat_minor": 2
}
